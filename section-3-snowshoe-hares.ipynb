{
 "cells": [
  {
   "cell_type": "markdown",
   "id": "8eb1809e",
   "metadata": {},
   "source": [
    "# Discussion Section 3\n",
    "***"
   ]
  },
  {
   "cell_type": "markdown",
   "id": "c0c85238",
   "metadata": {},
   "source": [
    "### Archive exploration\n"
   ]
  },
  {
   "cell_type": "markdown",
   "id": "065c083d",
   "metadata": {},
   "source": []
  }
 ],
 "metadata": {
  "language_info": {
   "name": "python"
  }
 },
 "nbformat": 4,
 "nbformat_minor": 5
}
