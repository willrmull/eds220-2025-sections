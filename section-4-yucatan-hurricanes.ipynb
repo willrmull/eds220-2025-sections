{
 "cells": [
  {
   "cell_type": "code",
   "execution_count": 25,
   "id": "483398f5",
   "metadata": {},
   "outputs": [],
   "source": [
    "import os\n",
    "\n",
    "import pandas as pd\n",
    "import matplotlib.pyplot as plt"
   ]
  },
  {
   "cell_type": "markdown",
   "id": "9c3549ed",
   "metadata": {},
   "source": [
    "## Discussion Section 4\n",
    "***\n",
    "### Archive Exploration\n",
    "About:\n",
    "- Data on hurricanes in the Yucatan Peninsula since 1851. \n",
    "\n",
    "Citation:\n",
    "- Boose, E. and D. Foster. 2023. Ecological Impacts of Hurricanes Across the Yucatan Peninsula 1851-2000 ver 23. Environmental Data Initiative. https://doi.org/10.6073/pasta/f219113373913f2daf421732e28d3c38 (Accessed 2025-10-24)."
   ]
  },
  {
   "cell_type": "markdown",
   "id": "e2aaea86",
   "metadata": {},
   "source": [
    "### Data Import"
   ]
  },
  {
   "cell_type": "code",
   "execution_count": 44,
   "id": "3c0ef10a",
   "metadata": {},
   "outputs": [],
   "source": [
    "df = os.path.join('data', 'knb-lter-hfr.71.23', 'hf071-01-hurricanes.csv')\n",
    "yuctan = pd.read_csv(df)"
   ]
  },
  {
   "cell_type": "code",
   "execution_count": 8,
   "id": "0d07e5be",
   "metadata": {},
   "outputs": [
    {
     "data": {
      "text/plain": [
       "Index(['code', 'start.date', 'end.date', 'number', 'name', 'ss', 'track',\n",
       "       'rf.max'],\n",
       "      dtype='object')"
      ]
     },
     "execution_count": 8,
     "metadata": {},
     "output_type": "execute_result"
    }
   ],
   "source": [
    "yuctan.columns"
   ]
  },
  {
   "cell_type": "code",
   "execution_count": 9,
   "id": "d27886f4",
   "metadata": {},
   "outputs": [
    {
     "data": {
      "text/html": [
       "<div>\n",
       "<style scoped>\n",
       "    .dataframe tbody tr th:only-of-type {\n",
       "        vertical-align: middle;\n",
       "    }\n",
       "\n",
       "    .dataframe tbody tr th {\n",
       "        vertical-align: top;\n",
       "    }\n",
       "\n",
       "    .dataframe thead th {\n",
       "        text-align: right;\n",
       "    }\n",
       "</style>\n",
       "<table border=\"1\" class=\"dataframe\">\n",
       "  <thead>\n",
       "    <tr style=\"text-align: right;\">\n",
       "      <th></th>\n",
       "      <th>code</th>\n",
       "      <th>start.date</th>\n",
       "      <th>end.date</th>\n",
       "      <th>number</th>\n",
       "      <th>name</th>\n",
       "      <th>ss</th>\n",
       "      <th>track</th>\n",
       "      <th>rf.max</th>\n",
       "    </tr>\n",
       "  </thead>\n",
       "  <tbody>\n",
       "    <tr>\n",
       "      <th>0</th>\n",
       "      <td>Y1852</td>\n",
       "      <td>1852-10-07</td>\n",
       "      <td>1852-10-08</td>\n",
       "      <td>5</td>\n",
       "      <td>NaN</td>\n",
       "      <td>2</td>\n",
       "      <td>O</td>\n",
       "      <td>F1</td>\n",
       "    </tr>\n",
       "    <tr>\n",
       "      <th>1</th>\n",
       "      <td>Y1857</td>\n",
       "      <td>1857-09-28</td>\n",
       "      <td>1857-09-28</td>\n",
       "      <td>4</td>\n",
       "      <td>NaN</td>\n",
       "      <td>2</td>\n",
       "      <td>N</td>\n",
       "      <td>F1</td>\n",
       "    </tr>\n",
       "    <tr>\n",
       "      <th>2</th>\n",
       "      <td>Y1861</td>\n",
       "      <td>1861-08-17</td>\n",
       "      <td>1861-08-17</td>\n",
       "      <td>2</td>\n",
       "      <td>NaN</td>\n",
       "      <td>1</td>\n",
       "      <td>O</td>\n",
       "      <td>Nd</td>\n",
       "    </tr>\n",
       "    <tr>\n",
       "      <th>3</th>\n",
       "      <td>Y1864</td>\n",
       "      <td>1864-08-31</td>\n",
       "      <td>1864-08-31</td>\n",
       "      <td>3</td>\n",
       "      <td>NaN</td>\n",
       "      <td>1</td>\n",
       "      <td>S</td>\n",
       "      <td>F1</td>\n",
       "    </tr>\n",
       "    <tr>\n",
       "      <th>4</th>\n",
       "      <td>Y1865</td>\n",
       "      <td>1865-09-11</td>\n",
       "      <td>1865-09-11</td>\n",
       "      <td>4</td>\n",
       "      <td>NaN</td>\n",
       "      <td>2</td>\n",
       "      <td>O</td>\n",
       "      <td>F1</td>\n",
       "    </tr>\n",
       "  </tbody>\n",
       "</table>\n",
       "</div>"
      ],
      "text/plain": [
       "    code  start.date    end.date  number name  ss track rf.max\n",
       "0  Y1852  1852-10-07  1852-10-08       5  NaN   2     O     F1\n",
       "1  Y1857  1857-09-28  1857-09-28       4  NaN   2     N     F1\n",
       "2  Y1861  1861-08-17  1861-08-17       2  NaN   1     O     Nd\n",
       "3  Y1864  1864-08-31  1864-08-31       3  NaN   1     S     F1\n",
       "4  Y1865  1865-09-11  1865-09-11       4  NaN   2     O     F1"
      ]
     },
     "execution_count": 9,
     "metadata": {},
     "output_type": "execute_result"
    }
   ],
   "source": [
    "yuctan.head()"
   ]
  },
  {
   "cell_type": "code",
   "execution_count": 53,
   "id": "492da0df",
   "metadata": {},
   "outputs": [
    {
     "data": {
      "text/plain": [
       "<bound method NDFrame.copy of        code start.date   end.date  number     name  ss track rf.max duration\n",
       "76   Y1955b 1955-09-28 1955-09-28      10    Janet   5     N     F3   0 days\n",
       "96   Y1980a 1980-08-07 1980-08-08       1    Allen   5     O     F3   1 days\n",
       "98    Y1988 1988-09-14 1988-09-15       8  Gilbert   5     N     F3   1 days\n",
       "103   Y1998 1998-10-27 1998-10-28      13    Mitch   5     S     F1   1 days>"
      ]
     },
     "execution_count": 53,
     "metadata": {},
     "output_type": "execute_result"
    }
   ],
   "source": [
    "# Convert the date date time format\n",
    "yuctan['start.date'] = pd.to_datetime(yuctan['start.date'])\n",
    "yuctan['end.date'] = pd.to_datetime(yuctan['end.date'])\n",
    "\n",
    "# Find the duration of each hurricane\n",
    "yuctan['duration'] = yuctan['end.date'] - yuctan['start.date']\n",
    "\n",
    "yuctan_cat5 = yuctan[yuctan['ss'] == 5].copy\n",
    "\n",
    "yuctan_cat5"
   ]
  },
  {
   "cell_type": "code",
   "execution_count": null,
   "id": "ce3b8251",
   "metadata": {},
   "outputs": [
    {
     "data": {
      "text/plain": [
       "([<matplotlib.axis.YTick at 0x7fdb66e07190>,\n",
       "  <matplotlib.axis.YTick at 0x7fdb66fbe4d0>,\n",
       "  <matplotlib.axis.YTick at 0x7fdb66f2a9d0>,\n",
       "  <matplotlib.axis.YTick at 0x7fdb66fd8610>,\n",
       "  <matplotlib.axis.YTick at 0x7fdb66e4fd50>,\n",
       "  <matplotlib.axis.YTick at 0x7fdb66e5a010>],\n",
       " [Text(0, 0, '0'),\n",
       "  Text(0, 1, '1'),\n",
       "  Text(0, 2, '2'),\n",
       "  Text(0, 3, '3'),\n",
       "  Text(0, 4, '4'),\n",
       "  Text(0, 5, '5')])"
      ]
     },
     "execution_count": 37,
     "metadata": {},
     "output_type": "execute_result"
    },
    {
     "data": {
      "image/png": "[encoded data removed]",
      "text/plain": [
       "<Figure size 640x480 with 1 Axes>"
      ]
     },
     "metadata": {},
     "output_type": "display_data"
    }
   ],
   "source": [
    "plt.scatter(yuctan['start.date'], yuctan['ss'])\n",
    "plt.yticks([0, 1, 2, 3, 4, 5])"
   ]
  },
  {
   "cell_type": "markdown",
   "id": "30ee2dcf",
   "metadata": {},
   "source": [
    "The plot indicates that as time has gone hurricanes have gotten more and more extreme."
   ]
  },
  {
   "cell_type": "code",
   "execution_count": 62,
   "id": "13dc8cd5",
   "metadata": {},
   "outputs": [
    {
     "data": {
      "text/plain": [
       "(<matplotlib.collections.PathCollection at 0x7fdb6643b710>,\n",
       " ([<matplotlib.axis.YTick at 0x7fdb665bce50>,\n",
       "   <matplotlib.axis.YTick at 0x7fdb66b8b4d0>,\n",
       "   <matplotlib.axis.YTick at 0x7fdb66a2ddd0>,\n",
       "   <matplotlib.axis.YTick at 0x7fdb6647e650>,\n",
       "   <matplotlib.axis.YTick at 0x7fdb6648c090>,\n",
       "   <matplotlib.axis.YTick at 0x7fdb6648e710>],\n",
       "  [Text(0, 0, '0'),\n",
       "   Text(0, 1, '1'),\n",
       "   Text(0, 2, '2'),\n",
       "   Text(0, 3, '3'),\n",
       "   Text(0, 4, '4'),\n",
       "   Text(0, 5, '5')]))"
      ]
     },
     "execution_count": 62,
     "metadata": {},
     "output_type": "execute_result"
    },
    {
     "data": {
      "image/png": "[encoded data removed]",
      "text/plain": [
       "<Figure size 640x480 with 1 Axes>"
      ]
     },
     "metadata": {},
     "output_type": "display_data"
    }
   ],
   "source": [
    "df = os.path.join('data', 'knb-lter-hfr.71.23', 'hf071-01-hurricanes.csv')\n",
    "yuctan = pd.read_csv(df)\n",
    "(\n",
    "plt.scatter(pd.to_datetime(yuctan['start.date']), yuctan['ss']),\n",
    "plt.yticks([0, 1, 2, 3, 4, 5])\n",
    ")\n"
   ]
  },
  {
   "cell_type": "code",
   "execution_count": null,
   "id": "4fbabfcb",
   "metadata": {},
   "outputs": [],
   "source": []
  }
 ],
 "metadata": {
  "kernelspec": {
   "display_name": "eds220-env",
   "language": "python",
   "name": "python3"
  },
  "language_info": {
   "codemirror_mode": {
    "name": "ipython",
    "version": 3
   },
   "file_extension": ".py",
   "mimetype": "text/x-python",
   "name": "python",
   "nbconvert_exporter": "python",
   "pygments_lexer": "ipython3",
   "version": "3.11.4"
  }
 },
 "nbformat": 4,
 "nbformat_minor": 5
}
